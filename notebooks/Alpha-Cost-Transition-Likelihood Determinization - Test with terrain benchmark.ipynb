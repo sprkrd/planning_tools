{
 "cells": [
  {
   "cell_type": "code",
   "execution_count": 1,
   "metadata": {},
   "outputs": [],
   "source": [
    "import toolbox_path\n",
    "import os\n",
    "import tqdm\n",
    "\n",
    "%matplotlib inline\n",
    "\n",
    "from planning_toolbox.parser import parse_file\n",
    "from planning_toolbox.solvers import *\n",
    "from planning_toolbox.determinization import *\n",
    "\n",
    "from utils import *"
   ]
  },
  {
   "cell_type": "code",
   "execution_count": 2,
   "metadata": {},
   "outputs": [
    {
     "name": "stdout",
     "output_type": "stream",
     "text": [
      "(define (domain terrain)\n",
      "\n",
      "(:requirements :typing :strips :probabilistic-effects :rewards)\n",
      "\n",
      "(:types land shallow-water deep-water - loc\n",
      "loc - object)\n",
      "\n",
      "(:predicates\n",
      "  (connected ?l1 ?l2 - loc)\n",
      "  (at ?l - loc)\n",
      "  (boulder-at ?l - loc)\n",
      "  (pickaxe-at ?l - loc)\n",
      "  (flag-at ?l - loc)\n",
      "  (alive)\n",
      "  (has-pickaxe)\n",
      "  (goal-reached)\n",
      ")\n",
      "\n",
      "(:action move-to-land\n",
      "  :parameters (?l1 - loc ?l2 - land)\n",
      "  :precondition (and (alive) (at ?l1) (or (connected ?l1 ?l2) (connected ?l2 ?l1)) (not (boulder-at ?l2)))\n",
      "  :effect (and (not (at ?l1)) (at ?l2) (decrease (reward) 1))\n",
      ")\n",
      "\n",
      "(:action move-to-shallow-water\n",
      "  :parameters (?l1 - loc ?l2 - shallow-water)\n",
      "  :precondition (and (alive) (at ?l1) (or (connected ?l1 ?l2) (connected ?l2 ?l1)) (not (boulder-at ?l2)))\n",
      "  :effect (and (not (at ?l1)) (at ?l2) (probabilistic 0.05 (not (alive))) (decrease (reward) 1))\n",
      ")\n",
      "\n",
      "(:action move-to-deep-water\n",
      "  :parameters (?l1 - loc ?l2 - deep-water)\n",
      "  :precondition (and (alive) (at ?l1) (or (connected ?l1 ?l2) (connected ?l2 ?l1)) (not (boulder-at ?l2)))\n",
      "  :effect (and (not (at ?l1)) (at ?l2) (probabilistic 0.2 (not (alive))) (decrease (reward) 1))\n",
      ")\n",
      "\n",
      "(:action pick-pickaxe\n",
      "  :parameters (?l - loc)\n",
      "  :precondition (and (alive) (not (has-pickaxe)) (at ?l) (pickaxe-at ?l))\n",
      "  :effect (and (has-pickaxe) (not (pickaxe-at ?l)))\n",
      ")\n",
      "\n",
      "(:action break-boulder\n",
      "  :parameters (?l1 ?l2 - land)\n",
      "  :precondition (and (alive) (has-pickaxe) (at ?l1) (or (connected ?l1 ?l2) (connected ?l2 ?l1)) (boulder-at ?l2))\n",
      "  :effect (and (not (boulder-at ?l2)) (decrease (reward) 2))\n",
      ")\n",
      "\n",
      "(:action reach-goal\n",
      "  :parameters (?l - loc)\n",
      "  :precondition (and (not (goal-reached)) (alive) (at ?l) (flag-at ?l))\n",
      "  :effect (goal-reached)\n",
      "))\n"
     ]
    }
   ],
   "source": [
    "folder = \"../benchmarks/terrain/\"\n",
    "domain = parse_file(folder+\"domain.pddl\", \"domain\")\n",
    "problems = sorted(folder+f for f in os.listdir(folder) if PROBLEM_FILE_RE.match(f))\n",
    "print(domain)"
   ]
  },
  {
   "cell_type": "code",
   "execution_count": 3,
   "metadata": {},
   "outputs": [
    {
     "name": "stdout",
     "output_type": "stream",
     "text": [
      "(define (domain terrain)\n",
      "\n",
      "(:requirements :typing :strips)\n",
      "\n",
      "(:types land shallow-water deep-water - loc\n",
      "loc - object)\n",
      "\n",
      "(:predicates\n",
      "  (connected ?l1 ?l2 - loc)\n",
      "  (at ?l - loc)\n",
      "  (boulder-at ?l - loc)\n",
      "  (pickaxe-at ?l - loc)\n",
      "  (flag-at ?l - loc)\n",
      "  (alive)\n",
      "  (has-pickaxe)\n",
      "  (goal-reached)\n",
      ")\n",
      "\n",
      "(:functions (total-cost))\n",
      "\n",
      "(:action move-to-land_o0\n",
      "  :parameters (?l1 - loc ?l2 - land)\n",
      "  :precondition (and (alive) (at ?l1) (or (connected ?l1 ?l2) (connected ?l2 ?l1)) (not (boulder-at ?l2)))\n",
      "  :effect (and (not (at ?l1)) (at ?l2))\n",
      ")\n",
      "\n",
      "(:action move-to-shallow-water_o0\n",
      "  :parameters (?l1 - loc ?l2 - shallow-water)\n",
      "  :precondition (and (alive) (at ?l1) (or (connected ?l1 ?l2) (connected ?l2 ?l1)) (not (boulder-at ?l2)))\n",
      "  :effect (and (not (at ?l1)) (at ?l2) (not (alive)) (increase (total-cost) 29957))\n",
      ")\n",
      "\n",
      "(:action move-to-shallow-water_o1\n",
      "  :parameters (?l1 - loc ?l2 - shallow-water)\n",
      "  :precondition (and (alive) (at ?l1) (or (connected ?l1 ?l2) (connected ?l2 ?l1)) (not (boulder-at ?l2)))\n",
      "  :effect (and (not (at ?l1)) (at ?l2) (increase (total-cost) 513))\n",
      ")\n",
      "\n",
      "(:action move-to-deep-water_o0\n",
      "  :parameters (?l1 - loc ?l2 - deep-water)\n",
      "  :precondition (and (alive) (at ?l1) (or (connected ?l1 ?l2) (connected ?l2 ?l1)) (not (boulder-at ?l2)))\n",
      "  :effect (and (not (at ?l1)) (at ?l2) (not (alive)) (increase (total-cost) 16094))\n",
      ")\n",
      "\n",
      "(:action move-to-deep-water_o1\n",
      "  :parameters (?l1 - loc ?l2 - deep-water)\n",
      "  :precondition (and (alive) (at ?l1) (or (connected ?l1 ?l2) (connected ?l2 ?l1)) (not (boulder-at ?l2)))\n",
      "  :effect (and (not (at ?l1)) (at ?l2) (increase (total-cost) 2231))\n",
      ")\n",
      "\n",
      "(:action pick-pickaxe_o0\n",
      "  :parameters (?l - loc)\n",
      "  :precondition (and (alive) (not (has-pickaxe)) (at ?l) (pickaxe-at ?l))\n",
      "  :effect (and (has-pickaxe) (not (pickaxe-at ?l)))\n",
      ")\n",
      "\n",
      "(:action break-boulder_o0\n",
      "  :parameters (?l1 ?l2 - land)\n",
      "  :precondition (and (alive) (has-pickaxe) (at ?l1) (or (connected ?l1 ?l2) (connected ?l2 ?l1)) (boulder-at ?l2))\n",
      "  :effect (not (boulder-at ?l2))\n",
      ")\n",
      "\n",
      "(:action reach-goal_o0\n",
      "  :parameters (?l - loc)\n",
      "  :precondition (and (not (goal-reached)) (alive) (at ?l) (flag-at ?l))\n",
      "  :effect (goal-reached)\n",
      "))\n"
     ]
    }
   ],
   "source": [
    "determinizer = AlphaCostLikelihoodDeterminizer(alpha=0, round_=4)\n",
    "determinizer.set_domain(domain)\n",
    "print(determinizer.determinized_domain)"
   ]
  },
  {
   "cell_type": "code",
   "execution_count": 4,
   "metadata": {
    "scrolled": false
   },
   "outputs": [
    {
     "name": "stderr",
     "output_type": "stream",
     "text": [
      "100%|██████████| 100/100 [00:24<00:00,  4.06it/s]\n"
     ]
    }
   ],
   "source": [
    "solver = FDPlanner(search=\"astar(hmax())\")\n",
    "problem = parse_file(problems[1], \"problem\", domain)\n",
    "\n",
    "alphas = []\n",
    "plan_cost = []\n",
    "plan_prob = []\n",
    "plans = []\n",
    "\n",
    "for alpha in tqdm.tqdm(list(linspace(0, 0.2, 100))):\n",
    "    determinizer.alpha = alpha\n",
    "    determinizer.reset()\n",
    "    deterministic_problem = determinizer(problem)\n",
    "    result = solver(deterministic_problem)\n",
    "    assert result[\"plan-found\"]\n",
    "    cost = result[\"total-cost\"]\n",
    "    prob, plan = determinizer.process_plan_trace(result[\"plan\"])\n",
    "    alphas.append(alpha)\n",
    "    plan_cost.append(cost)\n",
    "    plan_prob.append(prob)\n",
    "    plans.append(plan)"
   ]
  },
  {
   "cell_type": "code",
   "execution_count": 5,
   "metadata": {},
   "outputs": [
    {
     "data": {
      "image/png": "[encoded data removed]",
      "text/plain": [
       "<matplotlib.figure.Figure at 0x7f006e550e48>"
      ]
     },
     "metadata": {},
     "output_type": "display_data"
    }
   ],
   "source": [
    "plot_results_actl(alphas, plan_prob, [len(p) for p in plans], [c/10000 for c in plan_cost])"
   ]
  },
  {
   "cell_type": "code",
   "execution_count": 6,
   "metadata": {},
   "outputs": [
    {
     "name": "stdout",
     "output_type": "stream",
     "text": [
      "1st plan (21 actions):\n",
      "  (move-to-land x_1_1 x_1_0)\n",
      "  (move-to-land x_1_0 x_2_0)\n",
      "  (move-to-land x_2_0 x_3_0)\n",
      "  (move-to-land x_3_0 x_4_0)\n",
      "  (move-to-land x_4_0 x_5_0)\n",
      "  (pick-pickaxe x_5_0)\n",
      "  (move-to-land x_5_0 x_4_0)\n",
      "  (move-to-land x_4_0 x_4_1)\n",
      "  (move-to-land x_4_1 x_4_2)\n",
      "  (break-boulder x_4_2 x_4_3)\n",
      "  (move-to-land x_4_2 x_4_3)\n",
      "  (move-to-land x_4_3 x_4_4)\n",
      "  (move-to-land x_4_4 x_4_5)\n",
      "  (move-to-land x_4_5 x_3_5)\n",
      "  (move-to-land x_3_5 x_3_6)\n",
      "  (move-to-land x_3_6 x_2_6)\n",
      "  (move-to-land x_2_6 x_2_7)\n",
      "  (move-to-land x_2_7 x_2_8)\n",
      "  (move-to-land x_2_8 x_1_8)\n",
      "  (move-to-land x_1_8 x_0_8)\n",
      "  (reach-goal x_0_8)\n",
      "2nd plan (13 actions):\n",
      "  (move-to-land x_1_1 x_2_1)\n",
      "  (move-to-land x_2_1 x_2_2)\n",
      "  (move-to-land x_2_2 x_3_2)\n",
      "  (move-to-land x_3_2 x_3_3)\n",
      "  (move-to-shallow-water x_3_3 x_3_4)\n",
      "  (move-to-land x_3_4 x_3_5)\n",
      "  (move-to-land x_3_5 x_3_6)\n",
      "  (move-to-land x_3_6 x_2_6)\n",
      "  (move-to-land x_2_6 x_2_7)\n",
      "  (move-to-land x_2_7 x_2_8)\n",
      "  (move-to-land x_2_8 x_1_8)\n",
      "  (move-to-land x_1_8 x_0_8)\n",
      "  (reach-goal x_0_8)\n",
      "3rd plan (11 actions):\n",
      "  (move-to-land x_1_1 x_2_1)\n",
      "  (move-to-land x_2_1 x_2_2)\n",
      "  (move-to-shallow-water x_2_2 x_2_3)\n",
      "  (move-to-shallow-water x_2_3 x_2_4)\n",
      "  (move-to-shallow-water x_2_4 x_2_5)\n",
      "  (move-to-land x_2_5 x_2_6)\n",
      "  (move-to-land x_2_6 x_2_7)\n",
      "  (move-to-land x_2_7 x_2_8)\n",
      "  (move-to-land x_2_8 x_1_8)\n",
      "  (move-to-land x_1_8 x_0_8)\n",
      "  (reach-goal x_0_8)\n",
      "4th plan (9 actions):\n",
      "  (move-to-shallow-water x_1_1 x_1_2)\n",
      "  (move-to-shallow-water x_1_2 x_1_3)\n",
      "  (move-to-deep-water x_1_3 x_1_4)\n",
      "  (move-to-shallow-water x_1_4 x_1_5)\n",
      "  (move-to-shallow-water x_1_5 x_1_6)\n",
      "  (move-to-shallow-water x_1_6 x_0_6)\n",
      "  (move-to-land x_0_6 x_0_7)\n",
      "  (move-to-land x_0_7 x_0_8)\n",
      "  (reach-goal x_0_8)\n"
     ]
    }
   ],
   "source": [
    "print_plan(\"1st plan\", plans[0])\n",
    "print_plan(\"2nd plan\", plans[int((0.025 - 0)*99/(0.2))])\n",
    "print_plan(\"3rd plan\", plans[int((0.1 - 0)*99/(0.2))])\n",
    "print_plan(\"4th plan\", plans[int((0.175 - 0)*99/(0.2))])"
   ]
  },
  {
   "cell_type": "code",
   "execution_count": 7,
   "metadata": {},
   "outputs": [
    {
     "name": "stderr",
     "output_type": "stream",
     "text": [
      "100%|██████████| 100/100 [00:27<00:00,  3.59it/s]\n"
     ]
    }
   ],
   "source": [
    "problem = parse_file(problems[2], \"problem\", domain)\n",
    "\n",
    "alphas = []\n",
    "plan_cost = []\n",
    "plan_prob = []\n",
    "plans = []\n",
    "\n",
    "for alpha in tqdm.tqdm(list(linspace(0, 0.2, 100))):\n",
    "    determinizer.alpha = alpha\n",
    "    determinizer.reset()\n",
    "    deterministic_problem = determinizer(problem)\n",
    "    result = solver(deterministic_problem)\n",
    "    assert result[\"plan-found\"]\n",
    "    cost = result[\"total-cost\"]\n",
    "    prob, plan = determinizer.process_plan_trace(result[\"plan\"])\n",
    "    alphas.append(alpha)\n",
    "    plan_cost.append(cost)\n",
    "    plan_prob.append(prob)\n",
    "    plans.append(plan)"
   ]
  },
  {
   "cell_type": "code",
   "execution_count": 8,
   "metadata": {},
   "outputs": [
    {
     "data": {
      "image/png": "[encoded data removed]",
      "text/plain": [
       "<matplotlib.figure.Figure at 0x7f006e550a20>"
      ]
     },
     "metadata": {},
     "output_type": "display_data"
    }
   ],
   "source": [
    "plot_results_actl(alphas, plan_prob, [len(p) for p in plans], [c/10000 for c in plan_cost])"
   ]
  },
  {
   "cell_type": "code",
   "execution_count": 9,
   "metadata": {},
   "outputs": [
    {
     "name": "stdout",
     "output_type": "stream",
     "text": [
      "1st plan (26 actions):\n",
      "  (move-to-land x_2_0 x_1_0)\n",
      "  (move-to-shallow-water x_1_0 x_1_1)\n",
      "  (move-to-land x_1_1 x_1_2)\n",
      "  (move-to-land x_1_2 x_1_3)\n",
      "  (pick-pickaxe x_1_3)\n",
      "  (move-to-land x_1_3 x_0_3)\n",
      "  (break-boulder x_0_3 x_0_2)\n",
      "  (move-to-land x_0_3 x_0_2)\n",
      "  (move-to-land x_0_2 x_0_1)\n",
      "  (move-to-land x_0_1 x_0_0)\n",
      "  (move-to-land x_0_0 x_1_0)\n",
      "  (move-to-land x_1_0 x_2_0)\n",
      "  (move-to-land x_2_0 x_3_0)\n",
      "  (move-to-land x_3_0 x_4_0)\n",
      "  (move-to-land x_4_0 x_5_0)\n",
      "  (move-to-land x_5_0 x_5_1)\n",
      "  (move-to-land x_5_1 x_5_2)\n",
      "  (move-to-land x_5_2 x_5_3)\n",
      "  (move-to-land x_5_3 x_5_4)\n",
      "  (move-to-land x_5_4 x_5_5)\n",
      "  (break-boulder x_5_5 x_5_6)\n",
      "  (move-to-land x_5_5 x_5_6)\n",
      "  (move-to-land x_5_6 x_5_7)\n",
      "  (move-to-land x_5_7 x_5_8)\n",
      "  (move-to-land x_5_8 x_4_8)\n",
      "  (reach-goal x_4_8)\n",
      "2nd plan (17 actions):\n",
      "  (move-to-land x_2_0 x_1_0)\n",
      "  (move-to-shallow-water x_1_0 x_1_1)\n",
      "  (move-to-land x_1_1 x_1_2)\n",
      "  (move-to-land x_1_2 x_1_3)\n",
      "  (pick-pickaxe x_1_3)\n",
      "  (move-to-land x_1_3 x_0_3)\n",
      "  (move-to-land x_0_3 x_0_4)\n",
      "  (move-to-land x_0_4 x_0_5)\n",
      "  (move-to-land x_0_5 x_0_6)\n",
      "  (move-to-land x_0_6 x_0_7)\n",
      "  (move-to-land x_0_7 x_0_8)\n",
      "  (move-to-land x_0_8 x_1_8)\n",
      "  (break-boulder x_1_8 x_2_8)\n",
      "  (move-to-land x_1_8 x_2_8)\n",
      "  (move-to-shallow-water x_2_8 x_3_8)\n",
      "  (move-to-land x_3_8 x_4_8)\n",
      "  (reach-goal x_4_8)\n",
      "3rd plan (15 actions):\n",
      "  (move-to-land x_2_0 x_3_0)\n",
      "  (move-to-land x_3_0 x_4_0)\n",
      "  (move-to-land x_4_0 x_5_0)\n",
      "  (move-to-land x_5_0 x_5_1)\n",
      "  (move-to-land x_5_1 x_5_2)\n",
      "  (move-to-land x_5_2 x_5_3)\n",
      "  (move-to-land x_5_3 x_5_4)\n",
      "  (move-to-land x_5_4 x_5_5)\n",
      "  (move-to-shallow-water x_5_5 x_4_5)\n",
      "  (move-to-shallow-water x_4_5 x_4_6)\n",
      "  (move-to-shallow-water x_4_6 x_3_6)\n",
      "  (move-to-shallow-water x_3_6 x_3_7)\n",
      "  (move-to-shallow-water x_3_7 x_3_8)\n",
      "  (move-to-land x_3_8 x_4_8)\n",
      "  (reach-goal x_4_8)\n",
      "4th plan (13 actions):\n",
      "  (move-to-land x_2_0 x_3_0)\n",
      "  (move-to-land x_3_0 x_4_0)\n",
      "  (move-to-shallow-water x_4_0 x_4_1)\n",
      "  (move-to-shallow-water x_4_1 x_4_2)\n",
      "  (move-to-shallow-water x_4_2 x_4_3)\n",
      "  (move-to-shallow-water x_4_3 x_4_4)\n",
      "  (move-to-shallow-water x_4_4 x_4_5)\n",
      "  (move-to-shallow-water x_4_5 x_4_6)\n",
      "  (move-to-shallow-water x_4_6 x_3_6)\n",
      "  (move-to-shallow-water x_3_6 x_3_7)\n",
      "  (move-to-shallow-water x_3_7 x_3_8)\n",
      "  (move-to-land x_3_8 x_4_8)\n",
      "  (reach-goal x_4_8)\n",
      "5th plan (11 actions):\n",
      "  (move-to-shallow-water x_2_0 x_2_1)\n",
      "  (move-to-shallow-water x_2_1 x_2_2)\n",
      "  (move-to-shallow-water x_2_2 x_2_3)\n",
      "  (move-to-shallow-water x_2_3 x_2_4)\n",
      "  (move-to-deep-water x_2_4 x_2_5)\n",
      "  (move-to-deep-water x_2_5 x_2_6)\n",
      "  (move-to-shallow-water x_2_6 x_3_6)\n",
      "  (move-to-shallow-water x_3_6 x_3_7)\n",
      "  (move-to-shallow-water x_3_7 x_3_8)\n",
      "  (move-to-land x_3_8 x_4_8)\n",
      "  (reach-goal x_4_8)\n"
     ]
    }
   ],
   "source": [
    "print_plan(\"1st plan\", plans[0])\n",
    "print_plan(\"2nd plan\", plans[int((0.025 - 0)*99/(0.2))])\n",
    "print_plan(\"3rd plan\", plans[int((0.085 - 0)*99/(0.2))])\n",
    "print_plan(\"4th plan\", plans[int((0.150 - 0)*99/(0.2))])\n",
    "print_plan(\"5th plan\", plans[int((0.185 - 0)*99/(0.2))])"
   ]
  }
 ],
 "metadata": {
  "kernelspec": {
   "display_name": "Python 3",
   "language": "python",
   "name": "python3"
  },
  "language_info": {
   "codemirror_mode": {
    "name": "ipython",
    "version": 3
   },
   "file_extension": ".py",
   "mimetype": "text/x-python",
   "name": "python",
   "nbconvert_exporter": "python",
   "pygments_lexer": "ipython3",
   "version": "3.5.2"
  }
 },
 "nbformat": 4,
 "nbformat_minor": 2
}
